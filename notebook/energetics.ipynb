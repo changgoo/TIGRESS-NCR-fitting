{
 "cells": [
  {
   "cell_type": "code",
   "execution_count": null,
   "id": "fc6e061a",
   "metadata": {},
   "outputs": [],
   "source": [
    "import matplotlib.pyplot as plt\n",
    "import xarray as xr\n",
    "import os\n",
    "from labellines import labelLines"
   ]
  },
  {
   "cell_type": "code",
   "execution_count": null,
   "id": "163ca3b8-7c74-4f49-8965-a8fa7620b90e",
   "metadata": {},
   "outputs": [],
   "source": [
    "plt.style.use(\"presentation-dark.mplstyle\")"
   ]
  },
  {
   "cell_type": "code",
   "execution_count": null,
   "id": "da4fa212",
   "metadata": {},
   "outputs": [],
   "source": [
    "plt.rcParams[\"font.size\"] = 25"
   ]
  },
  {
   "cell_type": "code",
   "execution_count": null,
   "id": "d5795fb0",
   "metadata": {},
   "outputs": [],
   "source": [
    "# \"qdset\" is a xarray.Dataset storing the (16, 50, 84) percentile values and mean and std for each model's time series into an effectively 3D array.\n",
    "with xr.open_dataarray(\"percentiles_all.nc\") as qdset:\n",
    "    qmean = qdset.sel(q=\"mean\")\n",
    "\n",
    "hst_basedir = \"lowZ-hst-data\"\n",
    "hst = dict()\n",
    "for m in qdset[\"name\"].data:\n",
    "    f = os.path.join(hst_basedir, f\"{m}_hst.nc\")\n",
    "    with xr.open_dataset(f) as dset:\n",
    "        hst[m] = dset"
   ]
  },
  {
   "cell_type": "code",
   "execution_count": null,
   "id": "ca575e89",
   "metadata": {},
   "outputs": [],
   "source": [
    "colors_dark = {\n",
    "    \"Srad\": \"w\",\n",
    "    \"Sheat\": \"coral\",\n",
    "    \"Scool\": \"aqua\",\n",
    "    \"Snet\": \"lime\",\n",
    "    \"SSN\": \"gold\",\n",
    "    \"SKE\": \"yellowgreen\",\n",
    "    \"Fout\": \"violet\",\n",
    "    \"Gwork\": \"lightgray\",\n",
    "    \"Sbox\": \"bisque\",\n",
    "    \"Esink\": \"orange\",\n",
    "    \"PE\": \"aqua\",\n",
    "    \"PH_HI\": \"coral\",\n",
    "    \"CR\": \"gold\",\n",
    "    \"other_heat\": \"bisque\",\n",
    "    \"CII\": \"aqua\",\n",
    "    \"OI\": \"orange\",\n",
    "    \"neb\": \"coral\",\n",
    "    \"HI_Lya\": \"lime\",\n",
    "    \"rec_cool\": \"gold\",\n",
    "    \"CIE\": \"violet\",\n",
    "    \"other_cool\": \"bisque\",\n",
    "}\n",
    "\n",
    "outdir = \"./lowZ-energetics-figures\"\n",
    "os.makedirs(outdir, exist_ok=True)"
   ]
  },
  {
   "cell_type": "code",
   "execution_count": null,
   "id": "edf6c89f-6c56-43eb-b2a0-2302b3e6f35c",
   "metadata": {},
   "outputs": [],
   "source": [
    "plt.plot(-hst[m][\"Esink\"] / 228)"
   ]
  },
  {
   "cell_type": "code",
   "execution_count": null,
   "id": "46e45a3a",
   "metadata": {},
   "outputs": [],
   "source": [
    "def plot_energetics_build(hst):\n",
    "    fig, axes = plt.subplots(1, 1, figsize=(10, 12), sharex=True, sharey=True)\n",
    "    dt = 5\n",
    "    tMyr = hst[\"tMyr\"]\n",
    "    window = int(dt / tMyr.diff(dim=\"time_code\").median())\n",
    "    hst[\"Gwork\"] = hst[\"Gext\"] + hst[\"Gsg\"] + hst[\"Gtid\"]\n",
    "    hst[\"Sbox\"] = hst[\"Rxy\"] + hst[\"Mxy\"]\n",
    "    for key, ylabel in zip(\n",
    "        [\"Srad\", \"Sheat\", \"Scool\", \"Snet\", \"SSN\", \"Fout\", \"Gwork\", \"Sbox\", \"SKE\"],\n",
    "        [\n",
    "            r\"$\\dot{S}_{\\rm UV}$\",\n",
    "            r\"$\\mathcal{G}$\",\n",
    "            r\"$\\mathcal{L}$\",\n",
    "            r\"$\\mathcal{L}-\\mathcal{G}$\",\n",
    "            r\"$\\dot{S}_{\\rm SN}$\",\n",
    "            r\"$\\mathcal{F}_{\\rm E, out}$\",\n",
    "            r\"$G_{xy}$\",\n",
    "            r\"$R_{xy}+M_{xy}$\",\n",
    "            r\"$\\dot{S}_{\\rm diss}$\",\n",
    "            r\"$\\dot{S}_{\\rm sink}$\",\n",
    "        ],\n",
    "    ):\n",
    "        yavg = hst[key].to_series().rolling(window, center=True, min_periods=1).mean()\n",
    "        plt.plot(tMyr, yavg, color=colors_dark[key], label=ylabel)\n",
    "        if key == \"SKE\":\n",
    "            plt.fill_between(\n",
    "                tMyr, yavg / 2, yavg * 2, color=colors_dark[\"SKE\"], alpha=0.5, lw=0\n",
    "            )\n",
    "        plt.yscale(\"log\")\n",
    "        plt.ylim(1.0e-6, 1.0e4)\n",
    "\n",
    "    plt.ylabel(r\"Energy Source/Sink\" + r\"$\\,[{L_\\odot\\,{\\rm pc^{-2}}}]$\")\n",
    "    plt.setp(axes, xlabel=r\"$t\\,[{\\rm Myr}]$\")  # ,xlim=(200,500))\n",
    "    plt.tight_layout()\n",
    "    lines = axes.lines\n",
    "\n",
    "    labelLines(\n",
    "        align=False,\n",
    "        zorder=2.5,\n",
    "    )"
   ]
  },
  {
   "cell_type": "code",
   "execution_count": null,
   "id": "fc47ed0a",
   "metadata": {},
   "outputs": [],
   "source": [
    "for m in hst:\n",
    "    plot_energetics_build(hst[m])\n",
    "    plt.title(m, fontsize=\"xx-small\")\n",
    "    plt.savefig(os.path.join(outdir, f\"{m}-erate_tevol.png\"), dpi=300)"
   ]
  },
  {
   "cell_type": "code",
   "execution_count": null,
   "id": "a5b0124e",
   "metadata": {},
   "outputs": [],
   "source": [
    "def plot_energetics_residual(hst):\n",
    "    fig, axes = plt.subplots(1, 1, figsize=(10, 12), sharex=True, sharey=True)\n",
    "    dt = 5\n",
    "    tMyr = hst[\"tMyr\"]\n",
    "    window = int(dt / tMyr.diff(dim=\"time_code\").median())\n",
    "    hst[\"Gwork\"] = hst[\"Gext\"] + hst[\"Gsg\"] + hst[\"Gtid\"]\n",
    "    hst[\"Sbox\"] = hst[\"Rxy\"] + hst[\"Mxy\"]\n",
    "\n",
    "    yavg = hst[\"Snet\"].to_series()\n",
    "    yavg = yavg.rolling(window, center=True, min_periods=1).mean()\n",
    "    plt.plot(tMyr, yavg, color=colors_dark[\"Snet\"], label=r\"$\\mathcal{L}-\\mathcal{G}$\")\n",
    "\n",
    "    yavg = (\n",
    "        hst[\"net\"] - hst[\"SSN\"] + hst[\"Fout\"] - hst[\"Gwork\"] - hst[\"Sbox\"]\n",
    "    ).to_series()\n",
    "    yavg = yavg.rolling(window, center=True, min_periods=1).mean()\n",
    "    plt.plot(\n",
    "        tMyr,\n",
    "        yavg,\n",
    "        color=colors_dark[\"Srad\"],\n",
    "        ls=\":\",\n",
    "        label=r\"$(\\mathcal{L}+\\mathcal{F}_{\\rm E, out}) -(\\mathcal{G}+G_{xy}+R_{xy}+M_{xy})$\",\n",
    "    )\n",
    "\n",
    "    yavg = (hst[\"SSN\"] - hst[\"Fout\"]).to_series()\n",
    "    yavg = yavg.rolling(window, center=True, min_periods=1).mean()\n",
    "    plt.plot(\n",
    "        tMyr,\n",
    "        yavg,\n",
    "        color=colors_dark[\"SSN\"],\n",
    "        label=r\"$\\dot{S}_{\\rm SN} - \\mathcal{F}_{\\rm E, out}$\",\n",
    "    )\n",
    "\n",
    "    yavg = (hst[\"Gwork\"] + hst[\"Sbox\"]).to_series()\n",
    "    yavg = yavg.rolling(window, center=True, min_periods=1).mean()\n",
    "    plt.plot(tMyr, yavg, color=colors_dark[\"Sbox\"], label=r\"$G_{xy}+R_{xy}+M_{xy}$\")\n",
    "\n",
    "    yavg = hst[\"SKE\"].to_series().rolling(window, center=True, min_periods=1).mean()\n",
    "    plt.plot(tMyr, yavg, color=colors_dark[\"SKE\"], label=r\"$\\dot{S}_{\\rm diss}$\")\n",
    "    plt.fill_between(\n",
    "        tMyr, yavg / 2, yavg * 2, color=colors_dark[\"SKE\"], alpha=0.5, lw=0\n",
    "    )\n",
    "    plt.yscale(\"log\")\n",
    "    plt.ylim(1.0e-4, 1.0e2)\n",
    "\n",
    "    plt.ylabel(r\"Energy Source/Sink\" + r\"$\\,[{L_\\odot\\,{\\rm pc^{-2}}}]$\")\n",
    "    plt.setp(axes, xlabel=r\"$t\\,[{\\rm Myr}]$\")\n",
    "    plt.tight_layout()\n",
    "    lines = axes.lines\n",
    "\n",
    "    labelLines(\n",
    "        align=False,\n",
    "        zorder=2.5,\n",
    "    )"
   ]
  },
  {
   "cell_type": "code",
   "execution_count": null,
   "id": "c927e26e",
   "metadata": {},
   "outputs": [],
   "source": [
    "for m in hst:\n",
    "    plot_energetics_residual(hst[m])\n",
    "    plt.title(m, fontsize=\"xx-small\")\n",
    "    plt.savefig(os.path.join(outdir, f\"{m}-erate_tevol2.png\"), dpi=300)"
   ]
  },
  {
   "cell_type": "code",
   "execution_count": null,
   "id": "6e15d0a4",
   "metadata": {},
   "outputs": [],
   "source": []
  }
 ],
 "metadata": {
  "kernelspec": {
   "display_name": "prfm",
   "language": "python",
   "name": "python3"
  },
  "language_info": {
   "codemirror_mode": {
    "name": "ipython",
    "version": 3
   },
   "file_extension": ".py",
   "mimetype": "text/x-python",
   "name": "python",
   "nbconvert_exporter": "python",
   "pygments_lexer": "ipython3",
   "version": "3.11.3"
  }
 },
 "nbformat": 4,
 "nbformat_minor": 5
}
