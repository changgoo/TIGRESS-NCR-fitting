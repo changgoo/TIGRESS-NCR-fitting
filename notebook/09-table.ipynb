{
 "cells": [
  {
   "cell_type": "code",
   "execution_count": 1,
   "id": "3e836c5b-071c-492c-b27f-2d0c5d1be25b",
   "metadata": {},
   "outputs": [
    {
     "name": "stderr",
     "output_type": "stream",
     "text": [
      "[stellar-intel.princeton.edu:3814587] mca_base_component_repository_open: unable to open mca_op_avx: /usr/local/openmpi/4.1.0/gcc/lib64/openmpi/mca_op_avx.so: undefined symbol: ompi_op_base_module_t_class (ignored)\n"
     ]
    }
   ],
   "source": [
    "from pyathena.tigress_ncr.ncr_paper_lowz import LowZData\n",
    "from astropy.table import QTable\n",
    "from astropy.io import ascii\n",
    "\n",
    "# import astropy.constants as ac\n",
    "import astropy.units as au\n",
    "import numpy as np\n",
    "\n",
    "import xarray as xr"
   ]
  },
  {
   "cell_type": "code",
   "execution_count": 2,
   "id": "aa9d928a",
   "metadata": {},
   "outputs": [],
   "source": [
    "%load_ext memory_profiler"
   ]
  },
  {
   "cell_type": "code",
   "execution_count": 3,
   "id": "5716e254-94cd-42e3-91a8-732eeaf3f764",
   "metadata": {},
   "outputs": [
    {
     "name": "stderr",
     "output_type": "stream",
     "text": [
      "LoadSimTIGRESSNCR-WARNING: rst files not found in /scratch/gpfs/changgoo/TIGRESS-NCR/R8_8pc_NCR.full.b10.v3.iCR4.Zg1.Zd1.xy2048.eps0.0.\n",
      "LoadSimTIGRESSNCR-WARNING: rst files not found in /scratch/gpfs/changgoo/TIGRESS-NCR/R8_8pc_NCR.full.b10.v3.iCR4.Zg0.3.Zd0.3.xy4096.eps0.0.\n",
      "LoadSimTIGRESSNCR-WARNING: rst files not found in /scratch/gpfs/changgoo/TIGRESS-NCR/R8_8pc_NCR.full.b10.v3.iCR4.Zg0.1.Zd0.1.xy4096.eps0.0.\n",
      "LoadSimTIGRESSNCR-WARNING: rst files not found in /scratch/gpfs/changgoo/TIGRESS-NCR/R8_8pc_NCR.full.b10.v3.iCR4.Zg0.1.Zd0.025.xy4096.eps0.0.\n",
      "LoadSimTIGRESSNCR-WARNING: rst files not found in /scratch/gpfs/changgoo/TIGRESS-NCR/R8_8pc_NCR.full.b1.v3.iCR4.Zg1.Zd1.xy2048.eps0.0.\n",
      "LoadSimTIGRESSNCR-WARNING: rst files not found in /scratch/gpfs/changgoo/TIGRESS-NCR/R8_8pc_NCR.full.b1.v3.iCR4.Zg0.3.Zd0.3.xy4096.eps0.0.\n",
      "LoadSimTIGRESSNCR-WARNING: rst files not found in /scratch/gpfs/changgoo/TIGRESS-NCR/R8_8pc_NCR.full.b1.v3.iCR4.Zg0.1.Zd0.1.xy4096.eps0.0.\n",
      "LoadSimTIGRESSNCR-WARNING: rst files not found in /scratch/gpfs/changgoo/TIGRESS-NCR/R8_8pc_NCR.full.b1.v3.iCR4.Zg0.1.Zd0.025.xy4096.eps0.0.\n",
      "LoadSimTIGRESSNCR-WARNING: rst files not found in /scratch/gpfs/changgoo/TIGRESS-NCR/LGR4_4pc_NCR.full.b10.v3.iCR4.Zg1.Zd1.xy1024.eps1.e-8.\n",
      "LoadSimTIGRESSNCR-WARNING: rst files not found in /scratch/gpfs/changgoo/TIGRESS-NCR/LGR4_4pc_NCR.full.b10.v3.iCR4.Zg0.1.Zd0.1.xy2048.eps1.e-8.\n",
      "LoadSimTIGRESSNCR-WARNING: rst files not found in /scratch/gpfs/changgoo/TIGRESS-NCR/LGR4_4pc_NCR.full.b1.v3.iCR4.Zg1.Zd1.xy1024.eps1.e-8.\n",
      "LoadSimTIGRESSNCR-WARNING: rst files not found in /scratch/gpfs/changgoo/TIGRESS-NCR/LGR4_4pc_NCR.full.b1.v3.iCR4.Zg0.3.Zd0.3.xy2048.eps1.e-8.\n",
      "LoadSimTIGRESSNCR-WARNING: rst files not found in /scratch/gpfs/changgoo/TIGRESS-NCR/LGR4_4pc_NCR.full.b1.v3.iCR4.Zg0.1.Zd0.1.xy2048.eps1.e-8.\n",
      "LoadSimTIGRESSNCR-WARNING: rst files not found in /scratch/gpfs/changgoo/TIGRESS-NCR/LGR4_4pc_NCR.full.b1.v3.iCR4.Zg0.1.Zd0.025.xy2048.eps1.e-8.\n",
      "LoadSimTIGRESSNCR-WARNING: vtk files not found in /scratch/gpfs/changgoo/TIGRESS-NCR/R8_8pc_NCR.full.b10.v3\n",
      "LoadSimTIGRESSNCR-WARNING: starpar files not found in /scratch/gpfs/changgoo/TIGRESS-NCR/R8_8pc_NCR.full.b10.v3.\n",
      "LoadSimTIGRESSNCR-WARNING: rst files not found in /scratch/gpfs/changgoo/TIGRESS-NCR/R8_8pc_NCR.full.b10.v3.\n"
     ]
    },
    {
     "name": "stdout",
     "output_type": "stream",
     "text": [
      "R8-S30 R8_8pc_NCR_S30.full.b1.v3.iCR4.Zg1.Zd1.xy1024.eps0.0\n",
      "R8-S30 R8_8pc_NCR_S30.full.b1.v3.iCR4.Zg0.1.Zd0.1.xy2048.eps0.0\n",
      "R8-b10 R8_8pc_NCR.full.b10.v3.iCR4.Zg1.Zd1.xy2048.eps0.0\n",
      "R8-b10 R8_8pc_NCR.full.b10.v3.iCR4.Zg0.3.Zd0.3.xy4096.eps0.0\n",
      "R8-b10 R8_8pc_NCR.full.b10.v3.iCR4.Zg0.1.Zd0.1.xy4096.eps0.0\n",
      "R8-b10 R8_8pc_NCR.full.b10.v3.iCR4.Zg0.1.Zd0.025.xy4096.eps0.0\n",
      "R8-b1 R8_8pc_NCR.full.b1.v3.iCR4.Zg1.Zd1.xy2048.eps0.0\n",
      "R8-b1 R8_8pc_NCR.full.b1.v3.iCR4.Zg0.3.Zd0.3.xy4096.eps0.0\n",
      "R8-b1 R8_8pc_NCR.full.b1.v3.iCR4.Zg0.1.Zd0.1.xy4096.eps0.0\n",
      "R8-b1 R8_8pc_NCR.full.b1.v3.iCR4.Zg0.1.Zd0.025.xy4096.eps0.0\n",
      "LGR8-S05 LGR8_8pc_NCR_S05.full.b10.v3.iCR5.Zg1.Zd1.xy4096.eps0.0\n",
      "LGR8-S05 LGR8_8pc_NCR_S05.full.b10.v3.iCR5.Zg0.1.Zd0.1.xy8192.eps0.0\n",
      "LGR4-S100 LGR4_4pc_NCR_S100.full.b1.v3.iCR5.Zg1.Zd1.xy1024.eps1.e-8.rstZ01\n",
      "LGR4-S100 LGR4_4pc_NCR_S100.full.b1.v3.iCR4.Zg1.Zd1.xy1024.eps1.e-8\n",
      "LGR4-S100 LGR4_4pc_NCR_S100.full.b1.v3.iCR4.Zg0.1.Zd0.1.xy2048.eps1.e-8\n",
      "LGR4-b10 LGR4_4pc_NCR.full.b10.v3.iCR4.Zg1.Zd1.xy1024.eps1.e-8\n",
      "LGR4-b10 LGR4_4pc_NCR.full.b10.v3.iCR4.Zg0.1.Zd0.1.xy2048.eps1.e-8\n",
      "LGR4-b1 LGR4_4pc_NCR.full.b1.v3.iCR4.Zg1.Zd1.xy1024.eps1.e-8\n",
      "LGR4-b1 LGR4_4pc_NCR.full.b1.v3.iCR4.Zg0.3.Zd0.3.xy2048.eps1.e-8\n",
      "LGR4-b1 LGR4_4pc_NCR.full.b1.v3.iCR4.Zg0.1.Zd0.1.xy2048.eps1.e-8\n",
      "LGR4-b1 LGR4_4pc_NCR.full.b1.v3.iCR4.Zg0.1.Zd0.025.xy2048.eps1.e-8\n",
      "LGR2-S150-Om200 LGR2_4pc_NCR_S150.full.b2.Om02.v3.iCR5.Zg1.Zd1.xy1024.eps1.e-8.rstZ01\n",
      "LGR2-S150-Om200 LGR2_4pc_NCR_S150.full.b2.Om02.v3.iCR5.Zg1.Zd1.xy1024.eps1.e-8\n",
      "LGR2-S150-Om200 LGR2_4pc_NCR_S150.full.b2.Om02.v3.iCR5.Zg0.1.Zd0.1.xy2048.eps1.e-8\n",
      "LGR2-S150-Om100q0 LGR2_4pc_NCR_S150.full.b2.Om01.q0.v3.iCR5.Zg0.1.Zd0.1.xy2048.eps1.e-8\n",
      "LGR2-S150-Om100q0 LGR2_4pc_NCR_S150.full.b2.Om01.q0.v3.iCR5.Zg1.Zd1.xy1024.eps1.e-8\n",
      "R8-b1 R8_8pc_NCR.full.b1.v3.iCR4.Zg3.Zd3.xy1024.eps1.e-8\n",
      "LGR4-b1 LGR4_4pc_NCR.full.b1.v3.iCR4.Zg3.Zd3.xy1024.eps1.e-8\n"
     ]
    }
   ],
   "source": [
    "pdata = LowZData()"
   ]
  },
  {
   "cell_type": "code",
   "execution_count": 4,
   "id": "9d8b1cae-0801-4337-b8e3-368bdbb5d819",
   "metadata": {},
   "outputs": [],
   "source": [
    "for m in pdata.sa.models:\n",
    "    s = pdata.sa.set_model(m)\n",
    "    if s.nums_rawtar is not None:\n",
    "        print('sbatch slurm.stellar.do_tasks {}'.format(s.basedir))"
   ]
  },
  {
   "cell_type": "code",
   "execution_count": 5,
   "id": "8859f17b-5d64-4fad-8864-92bbe765d18b",
   "metadata": {},
   "outputs": [
    {
     "data": {
      "text/plain": [
       "{'R8_8pc_NCR_S30.full.b1.v3.iCR4.Zg1.Zd1.xy1024.eps0.0': 'R8_8pc_NCR_S30.full.b1.v3.iCR4.Zg1.Zd1',\n",
       " 'R8_8pc_NCR_S30.full.b1.v3.iCR4.Zg0.1.Zd0.1.xy2048.eps0.0': 'R8_8pc_NCR_S30.full.b1.v3.iCR4.Zg0.1.Zd0.1',\n",
       " 'R8_8pc_NCR.full.b10.v3.iCR4.Zg1.Zd1.xy2048.eps0.0': 'R8_8pc_NCR.full.b10.v3',\n",
       " 'R8_8pc_NCR.full.b10.v3.iCR4.Zg0.3.Zd0.3.xy4096.eps0.0': 'R8_8pc_NCR.full.b10.v3.iCR4.Zg0.3.Zd0.3',\n",
       " 'R8_8pc_NCR.full.b10.v3.iCR4.Zg0.1.Zd0.1.xy4096.eps0.0': 'R8_8pc_NCR.full.b10.v3.iCR4.Zg0.1.Zd0.1',\n",
       " 'R8_8pc_NCR.full.b10.v3.iCR4.Zg0.1.Zd0.025.xy4096.eps0.0': 'R8_8pc_NCR.full.b10.v3.iCR4.Zg0.1.Zd0.025',\n",
       " 'R8_8pc_NCR.full.b1.v3.iCR4.Zg1.Zd1.xy2048.eps0.0': 'R8_8pc_NCR.full.b1.v3.iCR4.Zg1.Zd1',\n",
       " 'R8_8pc_NCR.full.b1.v3.iCR4.Zg0.3.Zd0.3.xy4096.eps0.0': 'R8_8pc_NCR.full.b1.v3.iCR4.Zg0.3.Zd0.3',\n",
       " 'R8_8pc_NCR.full.b1.v3.iCR4.Zg0.1.Zd0.1.xy4096.eps0.0': 'R8_8pc_NCR.full.b1.v3.iCR4.Zg0.1.Zd0.1',\n",
       " 'R8_8pc_NCR.full.b1.v3.iCR4.Zg0.1.Zd0.025.xy4096.eps0.0': 'R8_8pc_NCR.full.b1.v3.iCR4.Zg0.1.Zd0.025',\n",
       " 'LGR8_8pc_NCR_S05.full.b10.v3.iCR5.Zg1.Zd1.xy4096.eps0.0': 'LGR8_8pc_NCR_S05.full.b10.v3.iCR4.Zg1.Zd1',\n",
       " 'LGR8_8pc_NCR_S05.full.b10.v3.iCR5.Zg0.1.Zd0.1.xy8192.eps0.0': 'LGR8_8pc_NCR_S05.full.b10.v3.iCR4.Zg0.1.Zd0.1',\n",
       " 'LGR4_4pc_NCR_S100.full.b1.v3.iCR5.Zg1.Zd1.xy1024.eps1.e-8.rstZ01': None,\n",
       " 'LGR4_4pc_NCR_S100.full.b1.v3.iCR4.Zg1.Zd1.xy1024.eps1.e-8': 'LGR4_4pc_NCR_S100.full.b1.v3.iCR4.Zg1.Zd1',\n",
       " 'LGR4_4pc_NCR_S100.full.b1.v3.iCR4.Zg0.1.Zd0.1.xy2048.eps1.e-8': 'LGR4_4pc_NCR_S100.full.b1.v3.iCR4.Zg0.1.Zd0.1',\n",
       " 'LGR4_4pc_NCR.full.b10.v3.iCR4.Zg1.Zd1.xy1024.eps1.e-8': 'LGR4_4pc_NCR.full.b10.v3.iCR4.Zg1.Zd1',\n",
       " 'LGR4_4pc_NCR.full.b10.v3.iCR4.Zg0.1.Zd0.1.xy2048.eps1.e-8': 'LGR4_4pc_NCR.full.b10.v3.iCR4.Zg0.1.Zd0.1',\n",
       " 'LGR4_4pc_NCR.full.b1.v3.iCR4.Zg1.Zd1.xy1024.eps1.e-8': 'LGR4_4pc_NCR.full.b1.v3.iCR4.Zg1.Zd1',\n",
       " 'LGR4_4pc_NCR.full.b1.v3.iCR4.Zg0.3.Zd0.3.xy2048.eps1.e-8': 'LGR4_4pc_NCR.full.b1.v3.iCR4.Zg0.3.Zd0.3',\n",
       " 'LGR4_4pc_NCR.full.b1.v3.iCR4.Zg0.1.Zd0.1.xy2048.eps1.e-8': 'LGR4_4pc_NCR.full.b1.v3.iCR4.Zg0.1.Zd0.1',\n",
       " 'LGR4_4pc_NCR.full.b1.v3.iCR4.Zg0.1.Zd0.025.xy2048.eps1.e-8': 'LGR4_4pc_NCR.full.b1.v3.iCR4.Zg0.1.Zd0.025',\n",
       " 'LGR2_4pc_NCR_S150.full.b2.Om02.v3.iCR5.Zg1.Zd1.xy1024.eps1.e-8.rstZ01': None,\n",
       " 'LGR2_4pc_NCR_S150.full.b2.Om02.v3.iCR5.Zg1.Zd1.xy1024.eps1.e-8': 'LGR2_4pc_NCR_S150.full.b2.Om02.v3.iCR4.Zg1.Zd1',\n",
       " 'LGR2_4pc_NCR_S150.full.b2.Om02.v3.iCR5.Zg0.1.Zd0.1.xy2048.eps1.e-8': 'LGR2_4pc_NCR_S150.full.b2.Om02.v3.iCR4.Zg0.1.Zd0.1',\n",
       " 'LGR2_4pc_NCR_S150.full.b2.Om01.q0.v3.iCR5.Zg0.1.Zd0.1.xy2048.eps1.e-8': 'LGR2_4pc_NCR_S150.full.b2.Om01.q0.v3.iCR4.Zg0.1.Zd0.1',\n",
       " 'LGR2_4pc_NCR_S150.full.b2.Om01.q0.v3.iCR5.Zg1.Zd1.xy1024.eps1.e-8': None,\n",
       " 'R8_8pc_NCR.full.b1.v3.iCR4.Zg3.Zd3.xy1024.eps1.e-8': 'R8_8pc_NCR.full.b1.v3.iCR4.Zg1.Zd1',\n",
       " 'LGR4_4pc_NCR.full.b1.v3.iCR4.Zg3.Zd3.xy1024.eps1.e-8': None}"
      ]
     },
     "execution_count": 5,
     "metadata": {},
     "output_type": "execute_result"
    }
   ],
   "source": [
    "pdata.mlist_early"
   ]
  },
  {
   "cell_type": "code",
   "execution_count": 6,
   "id": "e2a00e83-9289-4b6a-b9ec-4ea2fab9c08d",
   "metadata": {},
   "outputs": [
    {
     "name": "stdout",
     "output_type": "stream",
     "text": [
      "reading history: R8_8pc_NCR_S30.full.b1.v3.iCR4.Zg1.Zd1.xy1024.eps0.0\n",
      "reading history: R8_8pc_NCR_S30.full.b1.v3.iCR4.Zg0.1.Zd0.1.xy2048.eps0.0\n",
      "reading history: R8_8pc_NCR.full.b10.v3.iCR4.Zg1.Zd1.xy2048.eps0.0\n",
      "reading history: R8_8pc_NCR.full.b10.v3.iCR4.Zg0.3.Zd0.3.xy4096.eps0.0\n",
      "reading history: R8_8pc_NCR.full.b10.v3.iCR4.Zg0.1.Zd0.1.xy4096.eps0.0\n",
      "reading history: R8_8pc_NCR.full.b10.v3.iCR4.Zg0.1.Zd0.025.xy4096.eps0.0\n",
      "reading history: R8_8pc_NCR.full.b1.v3.iCR4.Zg1.Zd1.xy2048.eps0.0\n",
      "reading history: R8_8pc_NCR.full.b1.v3.iCR4.Zg0.3.Zd0.3.xy4096.eps0.0\n",
      "reading history: R8_8pc_NCR.full.b1.v3.iCR4.Zg0.1.Zd0.1.xy4096.eps0.0\n",
      "reading history: R8_8pc_NCR.full.b1.v3.iCR4.Zg0.1.Zd0.025.xy4096.eps0.0\n",
      "reading history: LGR8_8pc_NCR_S05.full.b10.v3.iCR5.Zg1.Zd1.xy4096.eps0.0\n",
      "reading history: LGR8_8pc_NCR_S05.full.b10.v3.iCR5.Zg0.1.Zd0.1.xy8192.eps0.0\n",
      "reading history: LGR4_4pc_NCR_S100.full.b1.v3.iCR5.Zg1.Zd1.xy1024.eps1.e-8.rstZ01\n",
      "reading history: LGR4_4pc_NCR_S100.full.b1.v3.iCR4.Zg1.Zd1.xy1024.eps1.e-8\n",
      "reading history: LGR4_4pc_NCR_S100.full.b1.v3.iCR4.Zg0.1.Zd0.1.xy2048.eps1.e-8\n",
      "reading history: LGR4_4pc_NCR.full.b10.v3.iCR4.Zg1.Zd1.xy1024.eps1.e-8\n",
      "reading history: LGR4_4pc_NCR.full.b10.v3.iCR4.Zg0.1.Zd0.1.xy2048.eps1.e-8\n",
      "reading history: LGR4_4pc_NCR.full.b1.v3.iCR4.Zg1.Zd1.xy1024.eps1.e-8\n",
      "reading history: LGR4_4pc_NCR.full.b1.v3.iCR4.Zg0.3.Zd0.3.xy2048.eps1.e-8\n",
      "reading history: LGR4_4pc_NCR.full.b1.v3.iCR4.Zg0.1.Zd0.1.xy2048.eps1.e-8\n",
      "reading history: LGR4_4pc_NCR.full.b1.v3.iCR4.Zg0.1.Zd0.025.xy2048.eps1.e-8\n",
      "reading history: LGR2_4pc_NCR_S150.full.b2.Om02.v3.iCR5.Zg1.Zd1.xy1024.eps1.e-8.rstZ01\n",
      "reading history: LGR2_4pc_NCR_S150.full.b2.Om02.v3.iCR5.Zg1.Zd1.xy1024.eps1.e-8\n",
      "reading history: LGR2_4pc_NCR_S150.full.b2.Om02.v3.iCR5.Zg0.1.Zd0.1.xy2048.eps1.e-8\n",
      "reading history: LGR2_4pc_NCR_S150.full.b2.Om01.q0.v3.iCR5.Zg0.1.Zd0.1.xy2048.eps1.e-8\n",
      "reading history: LGR2_4pc_NCR_S150.full.b2.Om01.q0.v3.iCR5.Zg1.Zd1.xy1024.eps1.e-8\n",
      "reading history: R8_8pc_NCR.full.b1.v3.iCR4.Zg3.Zd3.xy1024.eps1.e-8\n",
      "reading history: LGR4_4pc_NCR.full.b1.v3.iCR4.Zg3.Zd3.xy1024.eps1.e-8\n"
     ]
    }
   ],
   "source": [
    "pdata.read_hst()"
   ]
  },
  {
   "cell_type": "markdown",
   "id": "b696c5e6",
   "metadata": {},
   "source": [
    "# Summary table "
   ]
  },
  {
   "cell_type": "code",
   "execution_count": 7,
   "id": "529b1f6e-ec7d-493f-94a8-3b49f0ba7152",
   "metadata": {},
   "outputs": [],
   "source": [
    "names=[]\n",
    "surf=[]\n",
    "Sigma_star=[]\n",
    "z_star=[]\n",
    "kappa=[]\n",
    "R0=[]\n",
    "rhodm=[]\n",
    "sfr=[]\n",
    "sgas=[]\n",
    "Zgas=[]\n",
    "Zdust=[]\n",
    "Omega=[]\n",
    "Lx=[]\n",
    "Lz=[]\n",
    "dx=[]\n",
    "for gr in ['LGR8-S05','R8','R8-S30','LGR4','LGR4-S100','LGR2-S150']:\n",
    "    for m in [pdata.mgroup[gr][0]]:\n",
    "        s = pdata.sa.set_model(m)\n",
    "        par = s.par['problem']\n",
    "        domain = s.par['domain1']\n",
    "        names.append(pdata.get_model_name(s,beta=False).split('-')[0])\n",
    "        surf.append(par['surf']*au.M_sun/au.pc**2)\n",
    "        Sigma_star.append(par['SurfS']*au.M_sun/au.pc**3)\n",
    "        z_star.append(par['zstar']*au.pc)\n",
    "        kappa.append(par['Omega']*1.e3*np.sqrt(2)*au.km/au.s/au.kpc)\n",
    "        Omega.append(par['Omega']*1.e3*au.km/au.s/au.kpc)\n",
    "        R0.append(par['R0']/1.e3*au.kpc)\n",
    "        rhodm.append(par['rhodm']*au.M_sun/au.pc**3)\n",
    "        Zgas.append(s.Zgas)\n",
    "        Zdust.append(s.Zdust)\n",
    "        Lx.append((domain['x1max']-domain['x1min'])*au.pc)\n",
    "        Lz.append((domain['x3max']-domain['x3min'])*au.pc)\n",
    "        dx.append(int((domain['x1max']-domain['x1min'])/domain['Nx1']))\n",
    "t = QTable([names,Zgas,Zdust,surf,Sigma_star,z_star,rhodm,Omega,R0,Lx,Lz,dx],\n",
    "           names=('model','Zgas','Zdust','Sigma_gas0','Sigma_star','z_star','rhodm','Omega','R0','Lx','Lz','dx'))"
   ]
  },
  {
   "cell_type": "code",
   "execution_count": 8,
   "id": "47d2755b-2e74-45fb-bf14-94d439589460",
   "metadata": {},
   "outputs": [],
   "source": [
    "fmt = dict()\n",
    "fmt['Sigma_gas0']='%4i'\n",
    "fmt['Sigma_star']='%4i'\n",
    "fmt['z_star']='%4i'\n",
    "fmt['Omega']='%4i'\n",
    "fmt['R0']='%4i'\n",
    "fmt['Lx']='%4i'\n",
    "fmt['Lz']='%4i'"
   ]
  },
  {
   "cell_type": "code",
   "execution_count": 9,
   "id": "b25dfbee-a485-4ead-9094-e2af5d5c9416",
   "metadata": {},
   "outputs": [
    {
     "name": "stdout",
     "output_type": "stream",
     "text": [
      "\\begin{table}\n",
      "\\begin{tabular}{cccccccccccc}\n",
      "model & Zgas & Zdust & Sigma_gas0 & Sigma_star & z_star & rhodm & Omega & R0 & Lx & Lz & dx \\\\\n",
      " &  &  & $\\mathrm{M_{\\odot}\\,pc^{-2}}$ & $\\mathrm{M_{\\odot}\\,pc^{-3}}$ & $\\mathrm{pc}$ & $\\mathrm{M_{\\odot}\\,pc^{-3}}$ & $\\mathrm{km\\,kpc^{-1}\\,s^{-1}}$ & $\\mathrm{kpc}$ & $\\mathrm{pc}$ & $\\mathrm{pc}$ &  \\\\\n",
      "S05 & 1.0 & 1.0 & 5 & 1 & 500 & 0.002 & 15 & 8 & 2048 & 6144 & 8 \\\\\n",
      "R8 & 1.0 & 1.0 & 12 & 42 & 245 & 0.0064 & 28 & 8 & 1024 & 6144 & 8 \\\\\n",
      "S30 & 1.0 & 1.0 & 30 & 42 & 245 & 0.0064 & 28 & 8 & 1024 & 6144 & 8 \\\\\n",
      "LGR4 & 1.0 & 1.0 & 50 & 50 & 500 & 0.005 & 60 & 4 & 512 & 3072 & 4 \\\\\n",
      "S100 & 1.0 & 1.0 & 100 & 50 & 500 & 0.005 & 60 & 4 & 512 & 3072 & 4 \\\\\n",
      "S150 & 0.1 & 0.1 & 150 & 50 & 500 & 0.005 & 100 & 2 & 512 & 3072 & 4 \\\\\n",
      "\\end{tabular}\n",
      "\\end{table}\n"
     ]
    }
   ],
   "source": [
    "ascii.write(t,format='latex',formats=fmt)"
   ]
  },
  {
   "cell_type": "code",
   "execution_count": 10,
   "id": "a272224c-f6b8-429c-8679-f3d2f568b962",
   "metadata": {},
   "outputs": [],
   "source": [
    "def scifmt(value,fmt=':9.1e'):\n",
    "    maxdigits=int(fmt.split('.')[1][0])+1\n",
    "    sp='{{{}}}'.format(fmt).format(value).split('e')\n",
    "    try:\n",
    "        digits=int(sp[1])\n",
    "    except IndexError:\n",
    "        return sp\n",
    "    if abs(digits) < maxdigits:\n",
    "        return'{{{}}}'.format(':9.{}f'.format(maxdigits-digits-1)).format(value)\n",
    "    else:\n",
    "        return sp[0]+'\\\\cdot 10^{{{}}}'.format(int(sp[1]))"
   ]
  },
  {
   "cell_type": "code",
   "execution_count": 11,
   "id": "724ea8e2",
   "metadata": {},
   "outputs": [],
   "source": [
    "def print_latex_string(data,labels,m,kind='percentile', qr=[0.16,0.5,0.84]):\n",
    "    latex_string1 = '{{\\\\tt {:10s}}}'.format(m.replace('_','-'))\n",
    "    latex_string2 = '{{\\\\tt {:10s}}}'.format(m.replace('_','-'))\n",
    "    for d,l in zip(data,labels):\n",
    "        darr = np.array(data[d])\n",
    "        q = np.quantile(darr,qr)\n",
    "        # latex_string1 += ' & ({:4.1f},{:4.1f})'.format(darr.mean(),darr.std())\n",
    "        if l == 'tdep':\n",
    "            latex_string1 += ' & {}'.format(scifmt(np.array(data['Sigma_gas']).mean()/np.array(data['sfr']).mean()))\n",
    "        else:\n",
    "            latex_string1 += f' & {scifmt(np.nanmean(darr))}'\n",
    "        if l == 'H':\n",
    "            latex_string2 += ' & {:4.0f}^{{+{:3.0f}}}_{{-{:3.0f}}}'.format(q[1],q[2]-q[1],q[1]-q[0])\n",
    "        elif l == 'sfr-3':\n",
    "            latex_string2 += ' & {:9.1e}^{{+{:9.1e}}}_{{-{:9.1e}}}'.format(q[1],q[2]-q[1],q[1]-q[0])\n",
    "        else:\n",
    "            latex_string2 += ' & {:4.1f}^{{+{:3.1f}}}_{{-{:3.1f}}}'.format(q[1],q[2]-q[1],q[1]-q[0])\n",
    "\n",
    "    if kind == 'mean-std':\n",
    "        return latex_string1\n",
    "    if kind == 'percentile':\n",
    "        return latex_string2"
   ]
  },
  {
   "cell_type": "code",
   "execution_count": 12,
   "id": "b4098e22",
   "metadata": {},
   "outputs": [
    {
     "data": {
      "text/plain": [
       "slice(146.6688332521184, 307.182486036961, None)"
      ]
     },
     "execution_count": 12,
     "metadata": {},
     "output_type": "execute_result"
    }
   ],
   "source": [
    "pdata.get_trange(s)"
   ]
  },
  {
   "cell_type": "code",
   "execution_count": 19,
   "id": "12dbda01",
   "metadata": {},
   "outputs": [
    {
     "name": "stdout",
     "output_type": "stream",
     "text": [
      "{\\tt S05-Z1.0  } &       4.1 &      0.24 &   1.1\\cdot 10^{-4} &   3.6\\cdot 10^{4} &   6.3\\cdot 10^{2} &       9.5 &       6.3 & (  614, 1703) & (1.5,4.2)\\\\\n",
      "{\\tt S05-Z0.1  } &       4.8 &   6.2\\cdot 10^{-2} &   4.3\\cdot 10^{-5} &   1.1\\cdot 10^{5} &   4.9\\cdot 10^{2} &       8.2 &       3.9 & (  614, 1830) & (1.5,4.5)\\\\\n",
      "\\hline\n",
      "{\\tt R8-Z3.0   } &       8.8 &       3.5 &   3.7\\cdot 10^{-3} &   2.4\\cdot 10^{3} &   2.2\\cdot 10^{2} &        12 &       7.6 & (  438,  977) & (2.0,4.5)\\\\\n",
      "{\\tt R8-Z1.0   } &       9.3 &       2.5 &   3.0\\cdot 10^{-3} &   3.1\\cdot 10^{3} &   2.3\\cdot 10^{2} &        13 &       8.4 & (  438,  977) & (2.0,4.5)\\\\\n",
      "{\\tt R8-Z0.3   } &        10 &       1.7 &   1.9\\cdot 10^{-3} &   5.2\\cdot 10^{3} &   2.0\\cdot 10^{2} &        13 &       7.2 & (  438,  977) & (2.0,4.5)\\\\\n",
      "{\\tt R8-Z0.1   } &        11 &      0.97 &   1.2\\cdot 10^{-3} &   8.6\\cdot 10^{3} &   1.9\\cdot 10^{2} &        12 &       6.3 & (  438,  977) & (2.0,4.5)\\\\\n",
      "{\\tt R8-Zg0.1Zd0.025} &        10 &       1.2 &   1.4\\cdot 10^{-3} &   7.6\\cdot 10^{3} &   2.0\\cdot 10^{2} &        12 &       6.9 & (  438,  977) & (2.0,4.5)\\\\\n",
      "\\hline\n",
      "{\\tt R8-b10-Z1.0} &       8.8 &       3.0 &   2.7\\cdot 10^{-3} &   3.3\\cdot 10^{3} &   2.2\\cdot 10^{2} &        13 &       7.6 & (  438,  977) & (2.0,4.5)\\\\\n",
      "{\\tt R8-b10-Z0.3} &       9.9 &       1.9 &   2.0\\cdot 10^{-3} &   4.9\\cdot 10^{3} &   2.0\\cdot 10^{2} &        12 &       7.3 & (  438,  977) & (2.0,4.5)\\\\\n",
      "{\\tt R8-b10-Z0.1} &        10 &       1.2 &   1.2\\cdot 10^{-3} &   8.5\\cdot 10^{3} &   2.0\\cdot 10^{2} &        12 &       6.4 & (  438,  977) & (2.0,4.5)\\\\\n",
      "{\\tt R8-b10-Zg0.1Zd0.025} &        10 &       1.3 &   1.2\\cdot 10^{-3} &   8.6\\cdot 10^{3} &   2.3\\cdot 10^{2} &        13 &       7.1 & (  438,  977) & (2.0,4.5)\\\\\n",
      "\\hline\n",
      "{\\tt S30-Z1.0  } &        16 &        13 &   1.2\\cdot 10^{-2} &   1.4\\cdot 10^{3} &   2.5\\cdot 10^{2} &        14 &       9.5 & (  438,  977) & (2.0,4.5)\\\\\n",
      "{\\tt S30-Z0.1  } &        23 &       6.7 &   7.9\\cdot 10^{-3} &   2.9\\cdot 10^{3} &   2.1\\cdot 10^{2} &        14 &       9.2 & (  438,  977) & (2.0,4.5)\\\\\n",
      "\\hline\n",
      "{\\tt LGR4-Z3.0 } &        36 &        16 &   5.0\\cdot 10^{-2} &   7.1\\cdot 10^{2} &   2.0\\cdot 10^{2} &        14 &       9.1 & (  204,  444) & (2.0,4.3)\\\\\n",
      "{\\tt LGR4-Z1.0 } &        36 &        15 &   3.4\\cdot 10^{-2} &   1.1\\cdot 10^{3} &   1.7\\cdot 10^{2} &        14 &       8.2 & (  204,  488) & (2.0,4.8)\\\\\n",
      "{\\tt LGR4-Z0.3 } &        42 &       8.2 &   2.5\\cdot 10^{-2} &   1.7\\cdot 10^{3} &   1.8\\cdot 10^{2} &        14 &       8.5 & (  204,  488) & (2.0,4.8)\\\\\n",
      "{\\tt LGR4-Z0.1 } &        45 &       5.4 &   1.8\\cdot 10^{-2} &   2.4\\cdot 10^{3} &   1.8\\cdot 10^{2} &        14 &       7.9 & (  204,  488) & (2.0,4.8)\\\\\n",
      "{\\tt LGR4-Zg0.1Zd0.025} &        43 &       7.1 &   2.0\\cdot 10^{-2} &   2.1\\cdot 10^{3} &   2.0\\cdot 10^{2} &        14 &       8.1 & (  204,  488) & (2.0,4.8)\\\\\n",
      "\\hline\n",
      "{\\tt LGR4-b10-Z1.0} &        33 &        15 &   2.8\\cdot 10^{-2} &   1.2\\cdot 10^{3} &   1.9\\cdot 10^{2} &        14 &       9.2 & (  204,  488) & (2.0,4.8)\\\\\n"
     ]
    },
    {
     "name": "stdout",
     "output_type": "stream",
     "text": [
      "{\\tt LGR4-b10-Z0.1} &        42 &       7.8 &   1.7\\cdot 10^{-2} &   2.4\\cdot 10^{3} &   1.8\\cdot 10^{2} &        13 &       8.0 & (  204,  488) & (2.0,4.8)\\\\\n",
      "\\hline\n",
      "{\\tt S100-Z1.0r} &        55 &        43 &      0.13 &   4.2\\cdot 10^{2} &   2.8\\cdot 10^{2} &        18 &        16 & (  204,  487) & (2.0,4.8)\\\\\n",
      "{\\tt S100-Z1.0 } &        44 &        51 &   9.0\\cdot 10^{-2} &   4.9\\cdot 10^{2} &   3.2\\cdot 10^{2} &        21 &        19 & (  204,  425) & (2.0,4.2)\\\\\n",
      "{\\tt S100-Z0.1 } &        63 &        35 &   9.1\\cdot 10^{-2} &   7.0\\cdot 10^{2} &   2.1\\cdot 10^{2} &        16 &        12 & (  204,  488) & (2.0,4.8)\\\\\n",
      "\\hline\n",
      "{\\tt S150-Om200-Z1.0r} &   1.1\\cdot 10^{2} &        49 &      0.25 &   4.3\\cdot 10^{2} &   1.1\\cdot 10^{2} &        17 &       6.5 & (  153,  336) & (5.0,11.0)\\\\\n",
      "{\\tt S150-Om200-Z1.0} &        89 &        66 &      0.14 &   6.5\\cdot 10^{2} &   1.6\\cdot 10^{2} &        20 &       6.7 & (  153,  397) & (5.0,13.0)\\\\\n",
      "{\\tt S150-Om200-Z0.1} &   1.2\\cdot 10^{2} &        37 &      0.11 &   1.0\\cdot 10^{3} &   1.1\\cdot 10^{2} &        17 &       5.2 & (  153,  412) & (5.0,13.4)\\\\\n",
      "{\\tt S150-Om100q0-Z1.0} &        74 &        74 &      0.30 &   2.4\\cdot 10^{2} &   2.8\\cdot 10^{2} &        21 &        20 & (  146,  378) & (2.4,6.2)\\\\\n",
      "{\\tt S150-Om100q0-Z0.1} &        70 &        75 &      0.26 &   2.6\\cdot 10^{2} &   2.1\\cdot 10^{2} &        18 &        16 & (  146,  353) & (2.4,5.8)\\\\\n",
      "\\hline\n"
     ]
    }
   ],
   "source": [
    "for gr in ['LGR8-S05','R8','R8-b10','R8-S30','LGR4','LGR4-b10','LGR4-S100','LGR2-S150']:\n",
    "    mlist = sorted(pdata.mgroup[gr])[::-1]\n",
    "    for m in mlist:\n",
    "        s = pdata.sa.set_model(m)\n",
    "        # delattr(s,'h2p')\n",
    "        mname = pdata.get_model_name(s,beta = 'b10' in m)\n",
    "        torb = s.torb_Myr\n",
    "        sfr_field='sfr40'\n",
    "        if 'LGR8' in m:\n",
    "            sfr_field = 'sfr100'\n",
    "        trange = pdata.get_trange(s)\n",
    "\n",
    "        if not hasattr(s,'h2p'):\n",
    "            h = s.read_hst()\n",
    "            hph = s.read_hst_phase_all()\n",
    "\n",
    "            h2p = hph.sel(phase=['CMM','CNM','UNM','WNM']).sum(dim='phase')\n",
    "\n",
    "            h2p['H'] = np.sqrt(h2p['H2']/h2p['mass'])\n",
    "            h2p['vz'] = np.sqrt(2.0*h2p['x3KE']/h2p['mass'])\n",
    "            h2p['vA'] = np.sqrt((h2p['x1ME']+h2p['x2ME']-h2p['x3ME'])/h2p['mass'])\n",
    "            h2p['cs'] = np.sqrt((h2p['P'])/h2p['mass'])\n",
    "            h2p['szeff'] = np.sqrt(h2p['vz']**2+h2p['vA']**2+h2p['cs']**2)\n",
    "            h2p['sfr-3'] = h[sfr_field].to_xarray().rename(time_code='time').interp(time=h2p.time)*1.e3\n",
    "            h2p['sfr'] = h[sfr_field].to_xarray().rename(time_code='time').interp(time=h2p.time)\n",
    "            h2p['tdep'] = (h['Sigma_gas']/h[sfr_field]).to_xarray().rename(time_code='time').interp(time=h2p.time)\n",
    "            h2p['Sigma_gas'] = h['Sigma_gas'].to_xarray().rename(time_code='time').interp(time=h2p.time)\n",
    "            h2p['Sigma_sp'] = h['Sigma_sp'].to_xarray().rename(time_code='time').interp(time=h2p.time)\n",
    "            s.h2p = h2p.dropna(dim='time')\n",
    "        else:\n",
    "            h2p = s.h2p\n",
    "        keys=['Sigma_gas','Sigma_sp','sfr','tdep','H','szeff','vz',]\n",
    "        latex_string = print_latex_string(h2p[keys].sel(time=trange),keys,mname,kind='mean-std')\n",
    "        latex_string += f\" & ({int(trange.start):5d},{int(h2p['time'].data.max()*s.u.Myr):5d})\"\n",
    "        latex_string += f\" & ({trange.start/torb:3.1f},{h2p['time'].data.max()*s.u.Myr/torb:3.1f})\"\n",
    "        latex_string += \"\\\\\\\\\"\n",
    "        print(latex_string)\n",
    "    print('\\\\hline')"
   ]
  },
  {
   "cell_type": "code",
   "execution_count": 16,
   "id": "45818044",
   "metadata": {},
   "outputs": [],
   "source": [
    "with xr.open_dataarray('../data/percentiles_all.nc') as qdset:\n",
    "    qdset.load()"
   ]
  },
  {
   "cell_type": "code",
   "execution_count": 24,
   "id": "1f2f1d01-361f-4c87-b1ca-9e21640365e3",
   "metadata": {},
   "outputs": [
    {
     "name": "stdout",
     "output_type": "stream",
     "text": [
      "{\\tt S05-Z1.0  } & (  614, 1703) &      4.07 &  1.13\\cdot 10^{-4} &      48.9 &     0.242 &     0.135 &       626 &      9.46 &      6.22 &      4.96 &      5.11\\\\\n",
      "{\\tt S05-Z0.1  } & (  614, 1830) &      4.76 &  4.74\\cdot 10^{-5} &       189 &    0.0616 &     0.167 &       494 &      8.17 &      3.84 &      6.25 &      3.58\\\\\n",
      "\\hline\n",
      "{\\tt R8-Z3.0   } & (  438,  977) &      8.74 &  3.74\\cdot 10^{-3} &      2.51 &      3.48 &      1.22 &       219 &      12.4 &      7.64 &      5.09 &      8.32\\\\\n",
      "{\\tt R8-Z1.0   } & (  438,  977) &      9.22 &  2.97\\cdot 10^{-3} &      3.79 &      2.55 &      1.16 &       235 &      12.8 &      8.38 &      5.92 &      7.61\\\\\n",
      "{\\tt R8-Z0.3   } & (  438,  977) &      9.96 &  1.92\\cdot 10^{-3} &      5.66 &      1.67 &      1.08 &       203 &      12.5 &      7.17 &      6.48 &      7.89\\\\\n",
      "{\\tt R8-Z0.1   } & (  438,  977) &      10.6 &  1.29\\cdot 10^{-3} &      14.8 &     0.970 &      1.23 &       188 &      11.9 &      6.36 &      6.60 &      7.60\\\\\n",
      "{\\tt R8-Zg0.1Zd0.025} & (  438,  977) &      10.3 &  1.32\\cdot 10^{-3} &      12.2 &      1.20 &      1.28 &       200 &      12.1 &      6.89 &      6.55 &      7.47\\\\\n",
      "\\hline\n",
      "{\\tt R8-b10-Z1.0} & (  438,  977) &      8.81 &  2.60\\cdot 10^{-3} &      3.77 &      2.97 &      1.14 &       219 &      12.6 &      7.50 &      5.98 &      8.18\\\\\n",
      "{\\tt R8-b10-Z0.3} & (  438,  977) &      9.84 &  1.90\\cdot 10^{-3} &      6.90 &      1.88 &      1.26 &       203 &      12.2 &      7.17 &      6.39 &      7.52\\\\\n",
      "{\\tt R8-b10-Z0.1} & (  438,  977) &      10.4 &  1.29\\cdot 10^{-3} &      15.1 &      1.18 &      1.19 &       200 &      12.2 &      6.48 &      6.66 &      7.91\\\\\n",
      "{\\tt R8-b10-Zg0.1Zd0.025} & (  438,  977) &      10.3 &  1.29\\cdot 10^{-3} &      15.6 &      1.32 &      1.09 &       231 &      13.4 &      7.08 &      6.56 &      9.26\\\\\n",
      "\\hline\n",
      "{\\tt S30-Z1.0  } & (  438,  977) &      16.2 &    0.0114 &      1.53 &      13.1 &      2.62 &       248 &      13.8 &      9.39 &      6.22 &      8.00\\\\\n",
      "{\\tt S30-Z0.1  } & (  438,  977) &      22.5 &  7.92\\cdot 10^{-3} &      3.47 &      6.67 &      3.03 &       212 &      13.6 &      9.07 &      6.93 &      7.46\\\\\n",
      "\\hline\n",
      "{\\tt LGR4-Z3.0 } & (  204,  444) &      35.7 &    0.0503 &     0.726 &      16.4 &      8.46 &       201 &      13.8 &      9.02 &      4.31 &      9.49\\\\\n",
      "{\\tt LGR4-Z1.0 } & (  204,  488) &      36.1 &    0.0343 &      1.08 &      14.6 &      7.38 &       171 &      13.6 &      8.19 &      5.57 &      9.26\\\\\n",
      "{\\tt LGR4-Z0.3 } & (  204,  488) &      42.0 &    0.0252 &      1.80 &      8.19 &      6.70 &       175 &      14.0 &      8.58 &      6.26 &      9.11\\\\\n",
      "{\\tt LGR4-Z0.1 } & (  204,  488) &      44.6 &    0.0186 &      3.16 &      5.43 &      7.28 &       184 &      13.7 &      7.90 &      6.51 &      9.06\\\\\n",
      "{\\tt LGR4-Zg0.1Zd0.025} & (  204,  488) &      42.4 &    0.0202 &      2.21 &      7.14 &      6.45 &       196 &      13.7 &      8.02 &      6.35 &      9.05\\\\\n",
      "\\hline\n",
      "{\\tt LGR4-b10-Z1.0} & (  204,  488) &      33.2 &    0.0278 &      1.29 &      15.1 &      6.25 &       191 &      13.8 &      9.22 &      5.52 &      8.61\\\\\n",
      "{\\tt LGR4-b10-Z0.1} & (  204,  488) &      41.4 &    0.0169 &      3.10 &      7.79 &      5.82 &       177 &      13.0 &      7.97 &      6.53 &      8.01\\\\\n",
      "\\hline\n",
      "{\\tt S100-Z1.0r} & (  204,  487) &      54.4 &     0.127 &     0.495 &      42.9 &      14.2 &       276 &      18.4 &      15.7 &      5.77 &      7.83\\\\\n",
      "{\\tt S100-Z1.0 } & (  204,  425) &      42.0 &    0.0860 &     0.769 &      50.6 &      10.7 &       321 &      20.9 &      19.0 &      5.65 &      6.64\\\\\n",
      "{\\tt S100-Z0.1 } & (  204,  488) &      62.4 &    0.0885 &     0.799 &      34.7 &      12.4 &       215 &      16.3 &      12.4 &      6.95 &      8.01\\\\\n",
      "\\hline\n",
      "{\\tt S150-Om200-Z1.0r} & (  153,  336) &       105 &     0.247 &     0.453 &      49.4 &      36.2 &       113 &      17.1 &      6.50 &      4.87 &      15.1\\\\\n",
      "{\\tt S150-Om200-Z1.0} & (  153,  397) &      88.7 &     0.133 &     0.743 &      66.0 &      21.1 &       157 &      20.0 &      6.57 &      4.86 &      18.3\\\\\n",
      "{\\tt S150-Om200-Z0.1} & (  153,  412) &       115 &     0.108 &      1.10 &      37.5 &      30.9 &       111 &      17.0 &      5.17 &      6.32 &      14.9\\\\\n",
      "{\\tt S150-Om100q0-Z1.0} & (  146,  307) &      69.9 &     0.278 &     0.302 &      74.3 &      26.2 &       277 &      22.2 &      21.3 &      5.74 &      3.02\\\\\n",
      "{\\tt S150-Om100q0-Z0.1} & (  146,  307) &      68.7 &     0.261 &     0.319 &      74.5 &      21.4 &       214 &      17.7 &      15.7 &      7.20 &      3.74\\\\\n",
      "\\hline\n"
     ]
    }
   ],
   "source": [
    "for gr in ['LGR8-S05','R8','R8-b10','R8-S30','LGR4','LGR4-b10','LGR4-S100','LGR2-S150']:\n",
    "    mlist = sorted(pdata.mgroup[gr])[::-1]\n",
    "    for m in mlist:\n",
    "        s = pdata.sa.set_model(m)\n",
    "        mname = pdata.get_model_name(s,beta = 'b10' in m)\n",
    "        trange = pdata.get_trange(s)\n",
    "        torb = s.torb_Myr\n",
    "        # h = s.read_hst()\n",
    "        h2p = s.h2p\n",
    "        # tmax = h['time_code'].max()\n",
    "        latex_string1 = '{{\\\\tt {:10s}}}'.format(mname.replace('_','-'))\n",
    "        latex_string1 += f\" & ({int(trange.start):5d},{int(trange.stop):5d})\"\n",
    "        # latex_string1 += f\" & ({trange.start/torb:3.1f},{trange.stop/torb:3.1f})\"\n",
    "        for f in ['Sigma_gas','sfr','tdep','Sigma_sp','nH','H','sigma_eff','sigma_turb','sigma_th','sigma_mag']:\n",
    "            if f == 'sigma_mag':\n",
    "                seff = qdset.sel(name=m,q='mean',variable='sigma_eff').data\n",
    "                sturb = qdset.sel(name=m,q='mean',variable='sigma_turb').data\n",
    "                sth = qdset.sel(name=m,q='mean',variable='sigma_th').data\n",
    "                data = np.sqrt(seff**2 - sturb**2 - sth**2)\n",
    "            elif f in ['Sigma_sp','H']:\n",
    "                data = h2p[f].sel(time=trange).data\n",
    "            elif f == 'tdep':\n",
    "                data = qdset.sel(name=m,q='mean',variable=f).data*1.e-3\n",
    "            else:\n",
    "                data = qdset.sel(name=m,q='mean',variable=f).data\n",
    "            latex_string1 += f' & {scifmt(np.nanmean(data),fmt=\":9.2e\")}'\n",
    "        print(latex_string1 + '\\\\\\\\')\n",
    "    print('\\hline')"
   ]
  },
  {
   "cell_type": "code",
   "execution_count": 18,
   "id": "34cbeb0f-fe47-4cdd-abed-9dae5940e4f4",
   "metadata": {},
   "outputs": [
    {
     "name": "stdout",
     "output_type": "stream",
     "text": [
      "{\\tt S05-Z1.0  } &     0.125 &     0.141 &    0.0587 &    0.0400 &    0.0422 &    0.0120 &    0.0302 &     0.138 &     0.151\\\\\n",
      "{\\tt S05-Z0.1  } &     0.146 &     0.130 &    0.0153 &    0.0883 &    0.0260 &  9.87\\cdot 10^{-3} &    0.0162 &     0.160 &     0.172\\\\\n",
      "\\hline\n",
      "{\\tt R8-Z3.0   } &      1.61 &      1.69 &     0.618 &     0.246 &     0.829 &     0.371 &     0.458 &      1.37 &      1.75\\\\\n",
      "{\\tt R8-Z1.0   } &      1.80 &      2.06 &     0.835 &     0.439 &     0.786 &     0.322 &     0.463 &      1.57 &      1.91\\\\\n",
      "{\\tt R8-Z0.3   } &      1.84 &      2.01 &     0.571 &     0.575 &     0.862 &     0.327 &     0.535 &      1.41 &      2.04\\\\\n",
      "{\\tt R8-Z0.1   } &      1.85 &      1.88 &     0.336 &     0.696 &     0.850 &     0.238 &     0.612 &      1.51 &      2.12\\\\\n",
      "{\\tt R8-Zg0.1Zd0.025} &      1.84 &      1.85 &     0.322 &     0.653 &     0.876 &     0.271 &     0.605 &      1.68 &      2.07\\\\\n",
      "\\hline\n",
      "{\\tt R8-b10-Z1.0} &      1.67 &      1.77 &     0.558 &     0.402 &     0.807 &     0.333 &     0.474 &      1.35 &      1.79\\\\\n",
      "{\\tt R8-b10-Z0.3} &      1.80 &      1.85 &     0.465 &     0.589 &     0.791 &     0.303 &     0.487 &      1.42 &      1.98\\\\\n",
      "{\\tt R8-b10-Z0.1} &      1.87 &      1.87 &     0.308 &     0.682 &     0.882 &     0.247 &     0.635 &      1.46 &      2.11\\\\\n",
      "{\\tt R8-b10-Zg0.1Zd0.025} &      1.96 &      1.94 &     0.324 &     0.597 &      1.02 &     0.268 &     0.752 &      1.57 &      2.24\\\\\n",
      "\\hline\n",
      "{\\tt S30-Z1.0  } &      4.30 &      4.69 &      1.86 &      1.07 &      1.76 &     0.948 &     0.809 &      3.64 &      3.97\\\\\n",
      "{\\tt S30-Z0.1  } &      5.67 &      6.21 &      2.03 &      2.04 &      2.14 &     0.959 &      1.18 &      4.46 &      5.91\\\\\n",
      "\\hline\n",
      "{\\tt LGR4-Z3.0 } &      10.9 &      12.5 &      6.24 &      1.59 &      4.63 &      2.40 &      2.23 &      9.86 &      9.50\\\\\n",
      "{\\tt LGR4-Z1.0 } &      10.4 &      11.7 &      5.00 &      2.43 &      4.31 &      1.86 &      2.45 &      10.2 &      9.56\\\\\n",
      "{\\tt LGR4-Z0.3 } &      11.8 &      12.7 &      3.88 &      3.18 &      5.65 &      1.83 &      3.82 &      11.9 &      12.1\\\\\n",
      "{\\tt LGR4-Z0.1 } &      12.6 &      13.2 &      3.37 &      3.97 &      5.91 &      2.07 &      3.83 &      11.4 &      13.1\\\\\n",
      "{\\tt LGR4-Zg0.1Zd0.025} &      11.8 &      13.3 &      5.00 &      3.24 &      5.07 &      1.89 &      3.18 &      10.1 &      12.1\\\\\n",
      "\\hline\n",
      "{\\tt LGR4-b10-Z1.0} &      8.99 &      10.1 &      4.23 &      2.00 &      3.82 &      1.34 &      2.48 &      9.04 &      8.55\\\\\n",
      "{\\tt LGR4-b10-Z0.1} &      10.9 &      11.5 &      3.44 &      3.41 &      4.62 &      1.66 &      2.96 &      10.2 &      11.5\\\\\n",
      "\\hline\n",
      "{\\tt S100-Z1.0r} &      27.7 &      32.8 &      19.6 &      5.70 &      7.43 &      3.20 &      4.23 &      24.1 &      21.0\\\\\n",
      "{\\tt S100-Z1.0 } &      22.2 &      35.4 &      27.8 &      3.93 &      3.66 &      1.74 &      1.93 &      18.4 &      15.5\\\\\n",
      "{\\tt S100-Z0.1 } &      28.2 &      31.6 &      12.7 &      8.53 &      10.4 &      5.24 &      5.13 &      24.9 &      24.1\\\\\n",
      "\\hline\n",
      "{\\tt S150-Om200-Z1.0r} &      70.9 &      72.2 &      15.9 &      8.81 &      47.5 &      14.3 &      33.2 &      69.1 &      56.3\\\\\n",
      "{\\tt S150-Om200-Z1.0} &      58.7 &      57.4 &      8.78 &      3.82 &      44.8 &      6.21 &      38.6 &      65.1 &      45.1\\\\\n",
      "{\\tt S150-Om200-Z0.1} &      72.7 &      72.0 &      8.66 &      12.4 &      51.0 &      9.55 &      41.4 &      70.1 &      64.7\\\\\n",
      "{\\tt S150-Om100q0-Z1.0} &      53.4 &       112 &      98.7 &      10.6 &      3.04 &      2.48 &     0.566 &      34.6 &      33.0\\\\\n",
      "{\\tt S150-Om100q0-Z0.1} &      42.0 &      53.1 &      32.0 &      16.2 &      4.86 &      3.79 &      1.08 &      39.5 &      29.1\\\\\n",
      "\\hline\n"
     ]
    }
   ],
   "source": [
    "for gr in ['LGR8-S05','R8','R8-b10','R8-S30','LGR4','LGR4-b10','LGR4-S100','LGR2-S150']:\n",
    "    mlist = sorted(pdata.mgroup[gr])[::-1]\n",
    "    for m in mlist:\n",
    "        s = pdata.sa.set_model(m)\n",
    "        mname = pdata.get_model_name(s,beta = 'b10' in m)\n",
    "\n",
    "        latex_string1 = '{{\\\\tt {:10s}}}'.format(mname.replace('_','-'))\n",
    "        for f in ['W','Ptot','Pturb','Pth','Pimag','dPimag','oPimag', 'Ptot_hot','PDE_2p_avg_approx']:\n",
    "            data = qdset.sel(name=m,q='mean',variable=f).data/1.e4\n",
    "            latex_string1 += f' & {scifmt(np.nanmean(data),fmt=\":9.2e\")}'\n",
    "        print(latex_string1 + '\\\\\\\\')\n",
    "    print('\\hline')"
   ]
  },
  {
   "cell_type": "code",
   "execution_count": null,
   "id": "bbc06af8",
   "metadata": {},
   "outputs": [],
   "source": []
  }
 ],
 "metadata": {
  "kernelspec": {
   "display_name": "Python 3",
   "language": "python",
   "name": "python3"
  },
  "language_info": {
   "codemirror_mode": {
    "name": "ipython",
    "version": 3
   },
   "file_extension": ".py",
   "mimetype": "text/x-python",
   "name": "python",
   "nbconvert_exporter": "python",
   "pygments_lexer": "ipython3",
   "version": "3.9.15"
  }
 },
 "nbformat": 4,
 "nbformat_minor": 5
}
